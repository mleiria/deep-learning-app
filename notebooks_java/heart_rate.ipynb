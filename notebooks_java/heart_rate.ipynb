{
 "cells": [
  {
   "cell_type": "markdown",
   "id": "96fcab5c",
   "metadata": {},
   "source": [
    "Of course. Let's analyze this JSON data from the `com.samsung.shealth.tracker.heart_rate` package.\n",
    "\n",
    "### Analysis of the JSON Data\n",
    "\n",
    "This package provides data from the **continuous heart rate monitoring** feature of your Samsung device, which tracks your heart rate throughout the day outside of specific, logged workouts.\n",
    "\n",
    "*   **Package Purpose:** Unlike the `exercise` package which gives high-frequency, second-by-second data *during* a workout, this `tracker` package provides a lower-frequency **summary** of your heart rate over time. It's used to build the all-day heart rate chart in the Samsung Health app.\n",
    "\n",
    "*   **Structure:** The JSON is an array `[...]`, where each object represents an aggregated block of time.\n",
    "\n",
    "*   **Field-by-Field Breakdown of an Object:**\n",
    "\n",
    "    ```json\n",
    "    {\n",
    "      \"heart_rate\": 63.0,\n",
    "      \"heart_rate_max\": 69.0,\n",
    "      \"heart_rate_min\": 61.0,\n",
    "      \"start_time\": 1757502240000,\n",
    "      \"end_time\": 1757502299000\n",
    "    }\n",
    "    ```\n",
    "\n",
    "    *   `\"start_time\"` & `\"end_time\"`: These Unix timestamps define the measurement window.\n",
    "        *   `1757502240000` = **Friday, November 7, 2025, at 11:04:00 PM GMT**\n",
    "        *   `1757502299000` = **Friday, November 7, 2025, at 11:04:59 PM GMT**\n",
    "        *   The duration is consistently 59 seconds, meaning the data is aggregated into **1-minute intervals**.\n",
    "    *   `\"heart_rate\"`: This is the **average** heart rate in beats per minute (bpm) recorded during that 1-minute interval.\n",
    "    *   `\"heart_rate_max\"`: The **maximum** heart rate reading observed during that minute.\n",
    "    *   `\"heart_rate_min\"`: The **minimum** heart rate reading observed during that minute.\n",
    "\n",
    "*   **Special Case:** The first object in your list is interesting:\n",
    "    ```json\n",
    "    {\"heart_rate\":65.0,\"heart_rate_max\":65.0,\"heart_rate_min\":65.0,...}\n",
    "    ```\n",
    "    Here, the average, max, and min are all identical. This typically indicates one of two things:\n",
    "    1.  Your heart rate was exceptionally stable during that minute (common during deep sleep or meditation).\n",
    "    2.  The device only managed to get a single, spot reading during that minute, which then becomes the average, max, and min by default.\n",
    "\n",
    "### What This Data Shows\n",
    "\n",
    "This data provides a summary of your heart rate fluctuations throughout the day and night. By analyzing it, you can identify:\n",
    "*   Your resting heart rate (the lowest values, usually during sleep).\n",
    "*   Periods of light activity (when the average and max values rise).\n",
    "*   Your general cardiovascular state outside of exercise.\n",
    "\n",
    "---"
   ]
  },
  {
   "cell_type": "code",
   "id": "077d700f",
   "metadata": {
    "jupyter": {
     "is_executing": true
    }
   },
   "source": [
    "%maven ai.djl:basicdataset:0.23.0\n",
    "%maven ai.djl.mxnet:mxnet-engine:0.23.0\n",
    "%maven org.slf4j:slf4j-simple:1.7.36\n",
    "%maven pt.mleiria:deep-learning-app:1.1-SNAPSHOT\n",
    "%maven org.postgresql:postgresql:42.7.7\n",
    "%maven com.zaxxer:HikariCP:7.0.2"
   ],
   "outputs": [],
   "execution_count": null
  },
  {
   "cell_type": "code",
   "execution_count": 2,
   "id": "242e2c02",
   "metadata": {},
   "outputs": [],
   "source": [
    "import pt.mleiria.*;\n",
    "import pt.mleiria.config.*;\n",
    "import pt.mleiria.core.*;\n",
    "import pt.mleiria.data.importer.*;\n",
    "import pt.mleiria.data.importer.config.*;\n",
    "import pt.mleiria.data.importer.start.*;\n",
    "import pt.mleiria.db.*;\n",
    "import pt.mleiria.vo.*;\n",
    "import com.zaxxer.hikari.*;\n",
    "import tech.tablesaw.api.*;"
   ]
  },
  {
   "cell_type": "code",
   "execution_count": 3,
   "id": "78237df3",
   "metadata": {},
   "outputs": [
    {
     "data": {
      "text/plain": [
       "                                             Heart Rate                                              \n",
       "       startTime         |         endTime          |  heartRate  |  heartRateMin  |  heartRateMax  |\n",
       "-----------------------------------------------------------------------------------------------------\n",
       " 2025-02-16 12:35:00+00  |  2025-02-16 12:35:59+00  |         57  |            56  |            59  |\n",
       " 2025-02-16 12:36:00+00  |  2025-02-16 12:36:59+00  |         60  |            58  |            67  |\n",
       " 2025-02-16 12:37:00+00  |  2025-02-16 12:37:59+00  |         58  |            56  |            66  |\n",
       " 2025-02-16 12:38:00+00  |  2025-02-16 12:38:59+00  |         59  |            57  |            65  |\n",
       " 2025-02-16 12:39:00+00  |  2025-02-16 12:39:59+00  |         56  |            56  |            58  |\n",
       " 2025-02-16 12:40:00+00  |  2025-02-16 12:40:59+00  |         58  |            55  |            62  |\n",
       " 2025-02-16 12:41:00+00  |  2025-02-16 12:41:59+00  |         57  |            56  |            60  |\n",
       " 2025-02-16 12:42:00+00  |  2025-02-16 12:42:59+00  |         56  |            53  |            60  |\n",
       " 2025-02-16 12:43:00+00  |  2025-02-16 12:43:59+00  |         56  |            54  |            61  |\n",
       " 2025-02-16 12:44:00+00  |  2025-02-16 12:44:59+00  |         58  |            56  |            62  |\n",
       "                    ...  |                     ...  |        ...  |           ...  |           ...  |\n",
       " 2025-09-30 07:05:00+01  |  2025-09-30 07:05:59+01  |         61  |            58  |            65  |\n",
       " 2025-09-30 07:06:00+01  |  2025-09-30 07:06:59+01  |         66  |            58  |            83  |\n",
       " 2025-09-30 07:07:00+01  |  2025-09-30 07:07:59+01  |         74  |            69  |            79  |\n",
       " 2025-09-30 07:08:00+01  |  2025-09-30 07:08:59+01  |         70  |            67  |            73  |\n",
       " 2025-09-30 07:09:00+01  |  2025-09-30 07:09:59+01  |         75  |            69  |            82  |\n",
       " 2025-09-30 07:10:00+01  |  2025-09-30 07:10:59+01  |         79  |            74  |            85  |\n",
       " 2025-09-30 07:11:00+01  |  2025-09-30 07:11:59+01  |         79  |            78  |            83  |\n",
       " 2025-09-30 07:12:00+01  |  2025-09-30 07:12:59+01  |         71  |            68  |            83  |\n",
       " 2025-09-30 07:13:00+01  |  2025-09-30 07:13:59+01  |         68  |            63  |            74  |\n",
       " 2025-09-30 07:14:00+01  |  2025-09-30 07:14:59+01  |         77  |            72  |            82  |"
      ]
     },
     "execution_count": 3,
     "metadata": {},
     "output_type": "execute_result"
    }
   ],
   "source": [
    "HeartRateQueryExec heartRateQueryExec = new HeartRateQueryExec();\n",
    "Table dataset = heartRateQueryExec.selectAll();\n",
    "dataset\n"
   ]
  },
  {
   "cell_type": "code",
   "execution_count": null,
   "id": "9ef943d5",
   "metadata": {},
   "outputs": [
    {
     "data": {
      "text/plain": [
       "                                            Heart Rate Data                                            \n",
       "        startTime         |          endTime          |  heartRate  |  heartRateMin  |  heartRateMax  |\n",
       "-------------------------------------------------------------------------------------------------------\n",
       " 2025-06-09T20:27:36.000  |  2025-06-09T20:27:36.000  |        173  |           173  |           173  |\n",
       " 2025-06-09T20:27:37.000  |  2025-06-09T20:27:37.000  |        173  |           173  |           173  |\n",
       " 2025-06-09T20:27:38.000  |  2025-06-09T20:27:38.000  |        173  |           173  |           173  |\n",
       " 2025-06-09T20:27:39.000  |  2025-06-09T20:27:39.000  |        173  |           173  |           173  |\n",
       " 2025-06-09T20:27:40.000  |  2025-06-09T20:27:40.000  |        173  |           173  |           173  |\n",
       " 2025-06-09T20:27:41.000  |  2025-06-09T20:27:41.000  |        173  |           173  |           173  |\n",
       " 2025-06-09T20:27:42.000  |  2025-06-09T20:27:42.000  |        173  |           173  |           173  |\n",
       " 2025-06-09T20:27:43.000  |  2025-06-09T20:27:43.000  |        173  |           173  |           173  |\n",
       " 2025-06-09T20:27:44.000  |  2025-06-09T20:27:44.000  |        173  |           173  |           173  |"
      ]
     },
     "execution_count": 4,
     "metadata": {},
     "output_type": "execute_result"
    }
   ],
   "source": [
    "// Let's get the max heart rate\n",
    "final String query = \"SELECT data FROM heart_rate WHERE (data ->> 'heart_rate_max')::numeric = (SELECT MAX((data ->> 'heart_rate_max')::numeric) FROM heart_rate);\";\n",
    "final Table table = heartRateQueryExec.executeQueryForJson(query);\n",
    "table\n"
   ]
  },
  {
   "cell_type": "code",
   "execution_count": 5,
   "id": "d3f035a1",
   "metadata": {},
   "outputs": [
    {
     "data": {
      "text/plain": [
       "                                            Heart Rate Data                                            \n",
       "        startTime         |          endTime          |  heartRate  |  heartRateMin  |  heartRateMax  |\n",
       "-------------------------------------------------------------------------------------------------------\n",
       " 2025-08-01T06:45:00.000  |  2025-08-01T06:45:59.000  |         39  |            36  |            41  |\n",
       " 2025-08-11T06:48:00.000  |  2025-08-11T06:48:59.000  |         42  |            36  |            48  |\n",
       " 2025-08-26T05:01:00.000  |  2025-08-26T05:01:59.000  |         44  |            36  |            55  |"
      ]
     },
     "execution_count": 5,
     "metadata": {},
     "output_type": "execute_result"
    }
   ],
   "source": [
    "// Let's get the min heart rate\n",
    "final String query = \"SELECT data FROM heart_rate WHERE (data ->> 'heart_rate_min')::numeric = (SELECT MIN((data ->> 'heart_rate_min')::numeric) FROM heart_rate);\";\n",
    "final Table table = heartRateQueryExec.executeQueryForJson(query);\n",
    "table"
   ]
  },
  {
   "cell_type": "code",
   "execution_count": null,
   "id": "a39f6a67",
   "metadata": {},
   "outputs": [],
   "source": []
  }
 ],
 "metadata": {
  "kernelspec": {
   "display_name": "Java (jjava)",
   "language": "java",
   "name": "java"
  },
  "language_info": {
   "codemirror_mode": "java",
   "file_extension": ".jshell",
   "mimetype": "text/x-java-source",
   "name": "java",
   "pygments_lexer": "java",
   "version": "17.0.16+8-Ubuntu-0ubuntu124.04.1"
  }
 },
 "nbformat": 4,
 "nbformat_minor": 5
}
