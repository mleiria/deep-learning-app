{
 "cells": [
  {
   "cell_type": "markdown",
   "id": "96fcab5c",
   "metadata": {},
   "source": [
    "Of course. Let's analyze this JSON data from the `com.samsung.shealth.tracker.heart_rate` package.\n",
    "\n",
    "### Analysis of the JSON Data\n",
    "\n",
    "This package provides data from the **continuous heart rate monitoring** feature of your Samsung device, which tracks your heart rate throughout the day outside of specific, logged workouts.\n",
    "\n",
    "*   **Package Purpose:** Unlike the `exercise` package which gives high-frequency, second-by-second data *during* a workout, this `tracker` package provides a lower-frequency **summary** of your heart rate over time. It's used to build the all-day heart rate chart in the Samsung Health app.\n",
    "\n",
    "*   **Structure:** The JSON is an array `[...]`, where each object represents an aggregated block of time.\n",
    "\n",
    "*   **Field-by-Field Breakdown of an Object:**\n",
    "\n",
    "    ```json\n",
    "    {\n",
    "      \"heart_rate\": 63.0,\n",
    "      \"heart_rate_max\": 69.0,\n",
    "      \"heart_rate_min\": 61.0,\n",
    "      \"start_time\": 1757502240000,\n",
    "      \"end_time\": 1757502299000\n",
    "    }\n",
    "    ```\n",
    "\n",
    "    *   `\"start_time\"` & `\"end_time\"`: These Unix timestamps define the measurement window.\n",
    "        *   `1757502240000` = **Friday, November 7, 2025, at 11:04:00 PM GMT**\n",
    "        *   `1757502299000` = **Friday, November 7, 2025, at 11:04:59 PM GMT**\n",
    "        *   The duration is consistently 59 seconds, meaning the data is aggregated into **1-minute intervals**.\n",
    "    *   `\"heart_rate\"`: This is the **average** heart rate in beats per minute (bpm) recorded during that 1-minute interval.\n",
    "    *   `\"heart_rate_max\"`: The **maximum** heart rate reading observed during that minute.\n",
    "    *   `\"heart_rate_min\"`: The **minimum** heart rate reading observed during that minute.\n",
    "\n",
    "*   **Special Case:** The first object in your list is interesting:\n",
    "    ```json\n",
    "    {\"heart_rate\":65.0,\"heart_rate_max\":65.0,\"heart_rate_min\":65.0,...}\n",
    "    ```\n",
    "    Here, the average, max, and min are all identical. This typically indicates one of two things:\n",
    "    1.  Your heart rate was exceptionally stable during that minute (common during deep sleep or meditation).\n",
    "    2.  The device only managed to get a single, spot reading during that minute, which then becomes the average, max, and min by default.\n",
    "\n",
    "### What This Data Shows\n",
    "\n",
    "This data provides a summary of your heart rate fluctuations throughout the day and night. By analyzing it, you can identify:\n",
    "*   Your resting heart rate (the lowest values, usually during sleep).\n",
    "*   Periods of light activity (when the average and max values rise).\n",
    "*   Your general cardiovascular state outside of exercise.\n",
    "\n",
    "---"
   ]
  },
  {
   "cell_type": "code",
   "execution_count": 1,
   "id": "077d700f",
   "metadata": {
    "vscode": {
     "languageId": "java"
    }
   },
   "outputs": [],
   "source": [
    "/*\n",
    "%maven ai.djl:basicdataset:0.23.0\n",
    "%maven ai.djl.mxnet:mxnet-engine:0.23.0\n",
    "%maven org.slf4j:slf4j-simple:1.7.36\n",
    "%maven pt.mleiria:deep-learning-app:1.1-SNAPSHOT\n",
    "%maven org.postgresql:postgresql:42.7.7\n",
    "%maven com.zaxxer:HikariCP:7.0.2\n",
    "*/"
   ]
  },
  {
   "cell_type": "code",
   "execution_count": 2,
   "id": "50f189ba",
   "metadata": {
    "vscode": {
     "languageId": "java"
    }
   },
   "outputs": [],
   "source": [
    "%classpath /home/manuel/.m2/repository/pt/mleiria/deep-learning-app/1.1-SNAPSHOT/deep-learning-app-1.1-SNAPSHOT.jar"
   ]
  },
  {
   "cell_type": "code",
   "execution_count": null,
   "id": "14e846df",
   "metadata": {
    "vscode": {
     "languageId": "java"
    }
   },
   "outputs": [],
   "source": [
    "%load /home/manuel/projects/deep-learning-app/notebooks_java/utils/djl-imports\n",
    "%load /home/manuel/projects/deep-learning-app/notebooks_java/utils/plot-utils\n",
    "%load /home/manuel/projects/deep-learning-app/notebooks_java/utils/Functions.java"
   ]
  },
  {
   "cell_type": "code",
   "execution_count": 3,
   "id": "242e2c02",
   "metadata": {
    "vscode": {
     "languageId": "java"
    }
   },
   "outputs": [],
   "source": [
    "\n",
    "import pt.mleiria.core.*;\n",
    "import tech.tablesaw.api.*;\n",
    "import java.time.temporal.ChronoUnit;"
   ]
  },
  {
   "cell_type": "code",
   "execution_count": 4,
   "id": "78237df3",
   "metadata": {
    "vscode": {
     "languageId": "java"
    }
   },
   "outputs": [
    {
     "name": "stderr",
     "output_type": "stream",
     "text": [
      "[IJava-executor-0] INFO com.zaxxer.hikari.HikariDataSource - HikariPool-1 - Starting...\n",
      "[IJava-executor-0] INFO com.zaxxer.hikari.pool.HikariPool - HikariPool-1 - Added connection org.postgresql.jdbc.PgConnection@77517e23\n",
      "[IJava-executor-0] INFO com.zaxxer.hikari.HikariDataSource - HikariPool-1 - Start completed.\n",
      "[IJava-executor-0] INFO pt.mleiria.core.HeartRateQueryExec - Executing SQL: SELECT \n",
      "to_timestamp((data ->> 'start_time')::bigint / 1000) AS start_timestamp, \n",
      "to_timestamp((data ->> 'end_time')::bigint / 1000) AS end_timestamp, \n",
      "data ->> 'heart_rate' AS heart_rate, \n",
      "data ->> 'heart_rate_max' AS heart_rate_max, \n",
      "data ->> 'heart_rate_min' AS heart_rate_min \n",
      "FROM heart_rate ORDER BY start_timestamp ASC;\n"
     ]
    },
    {
     "data": {
      "text/plain": [
       "                                             Heart Rate                                              \n",
       "       startTime         |         endTime          |  heartRate  |  heartRateMin  |  heartRateMax  |\n",
       "-----------------------------------------------------------------------------------------------------\n",
       " 2025-02-16 12:35:00+00  |  2025-02-16 12:35:59+00  |         57  |            56  |            59  |\n",
       " 2025-02-16 12:36:00+00  |  2025-02-16 12:36:59+00  |         60  |            58  |            67  |\n",
       " 2025-02-16 12:37:00+00  |  2025-02-16 12:37:59+00  |         58  |            56  |            66  |\n",
       " 2025-02-16 12:38:00+00  |  2025-02-16 12:38:59+00  |         59  |            57  |            65  |\n",
       " 2025-02-16 12:39:00+00  |  2025-02-16 12:39:59+00  |         56  |            56  |            58  |\n",
       " 2025-02-16 12:40:00+00  |  2025-02-16 12:40:59+00  |         58  |            55  |            62  |\n",
       " 2025-02-16 12:41:00+00  |  2025-02-16 12:41:59+00  |         57  |            56  |            60  |\n",
       " 2025-02-16 12:42:00+00  |  2025-02-16 12:42:59+00  |         56  |            53  |            60  |\n",
       " 2025-02-16 12:43:00+00  |  2025-02-16 12:43:59+00  |         56  |            54  |            61  |\n",
       " 2025-02-16 12:44:00+00  |  2025-02-16 12:44:59+00  |         58  |            56  |            62  |\n",
       "                    ...  |                     ...  |        ...  |           ...  |           ...  |\n",
       " 2025-09-30 07:05:00+01  |  2025-09-30 07:05:59+01  |         61  |            58  |            65  |\n",
       " 2025-09-30 07:06:00+01  |  2025-09-30 07:06:59+01  |         66  |            58  |            83  |\n",
       " 2025-09-30 07:07:00+01  |  2025-09-30 07:07:59+01  |         74  |            69  |            79  |\n",
       " 2025-09-30 07:08:00+01  |  2025-09-30 07:08:59+01  |         70  |            67  |            73  |\n",
       " 2025-09-30 07:09:00+01  |  2025-09-30 07:09:59+01  |         75  |            69  |            82  |\n",
       " 2025-09-30 07:10:00+01  |  2025-09-30 07:10:59+01  |         79  |            74  |            85  |\n",
       " 2025-09-30 07:11:00+01  |  2025-09-30 07:11:59+01  |         79  |            78  |            83  |\n",
       " 2025-09-30 07:12:00+01  |  2025-09-30 07:12:59+01  |         71  |            68  |            83  |\n",
       " 2025-09-30 07:13:00+01  |  2025-09-30 07:13:59+01  |         68  |            63  |            74  |\n",
       " 2025-09-30 07:14:00+01  |  2025-09-30 07:14:59+01  |         77  |            72  |            82  |"
      ]
     },
     "execution_count": 4,
     "metadata": {},
     "output_type": "execute_result"
    }
   ],
   "source": [
    "HeartRateQueryExec heartRateQueryExec = new HeartRateQueryExec();\n",
    "Table dataset = heartRateQueryExec.selectAll();\n",
    "dataset\n"
   ]
  },
  {
   "cell_type": "code",
   "execution_count": 5,
   "id": "9ef943d5",
   "metadata": {
    "vscode": {
     "languageId": "java"
    }
   },
   "outputs": [
    {
     "data": {
      "text/plain": [
       "                                            Heart Rate Data                                            \n",
       "        startTime         |          endTime          |  heartRate  |  heartRateMin  |  heartRateMax  |\n",
       "-------------------------------------------------------------------------------------------------------\n",
       " 2025-06-09T20:27:36.000  |  2025-06-09T20:27:36.000  |        173  |           173  |           173  |\n",
       " 2025-06-09T20:27:37.000  |  2025-06-09T20:27:37.000  |        173  |           173  |           173  |\n",
       " 2025-06-09T20:27:38.000  |  2025-06-09T20:27:38.000  |        173  |           173  |           173  |\n",
       " 2025-06-09T20:27:39.000  |  2025-06-09T20:27:39.000  |        173  |           173  |           173  |\n",
       " 2025-06-09T20:27:40.000  |  2025-06-09T20:27:40.000  |        173  |           173  |           173  |\n",
       " 2025-06-09T20:27:41.000  |  2025-06-09T20:27:41.000  |        173  |           173  |           173  |\n",
       " 2025-06-09T20:27:42.000  |  2025-06-09T20:27:42.000  |        173  |           173  |           173  |\n",
       " 2025-06-09T20:27:43.000  |  2025-06-09T20:27:43.000  |        173  |           173  |           173  |\n",
       " 2025-06-09T20:27:44.000  |  2025-06-09T20:27:44.000  |        173  |           173  |           173  |"
      ]
     },
     "execution_count": 5,
     "metadata": {},
     "output_type": "execute_result"
    }
   ],
   "source": [
    "// Let's get the max heart rate\n",
    "final String query = \"SELECT data FROM heart_rate WHERE (data ->> 'heart_rate_max')::numeric = (SELECT MAX((data ->> 'heart_rate_max')::numeric) FROM heart_rate);\";\n",
    "final Table table = heartRateQueryExec.execQueryForJson(query);\n",
    "table\n"
   ]
  },
  {
   "cell_type": "code",
   "execution_count": 6,
   "id": "d3f035a1",
   "metadata": {
    "vscode": {
     "languageId": "java"
    }
   },
   "outputs": [
    {
     "data": {
      "text/plain": [
       "                                            Heart Rate Data                                            \n",
       "        startTime         |          endTime          |  heartRate  |  heartRateMin  |  heartRateMax  |\n",
       "-------------------------------------------------------------------------------------------------------\n",
       " 2025-08-01T06:45:00.000  |  2025-08-01T06:45:59.000  |         39  |            36  |            41  |\n",
       " 2025-08-26T05:01:00.000  |  2025-08-26T05:01:59.000  |         44  |            36  |            55  |\n",
       " 2025-08-11T06:48:00.000  |  2025-08-11T06:48:59.000  |         42  |            36  |            48  |"
      ]
     },
     "execution_count": 6,
     "metadata": {},
     "output_type": "execute_result"
    }
   ],
   "source": [
    "// Let's get the min heart rate\n",
    "final String query = \"SELECT data FROM heart_rate WHERE (data ->> 'heart_rate_min')::numeric = (SELECT MIN((data ->> 'heart_rate_min')::numeric) FROM heart_rate);\";\n",
    "final Table table = heartRateQueryExec.execQueryForJson(query);\n",
    "table"
   ]
  },
  {
   "cell_type": "code",
   "execution_count": 7,
   "id": "a39f6a67",
   "metadata": {
    "vscode": {
     "languageId": "java"
    }
   },
   "outputs": [
    {
     "data": {
      "text/plain": [
       "                                     Heart Rate Data summary                                      \n",
       "        startTime         |  Mean [heartRateMax]  |   Mean [heartRate]   |  Mean [heartRateMin]  |\n",
       "--------------------------------------------------------------------------------------------------\n",
       " 2025-02-16T00:00:00.000  |    67.84916201117318  |   63.34636871508379  |    60.67039106145252  |\n",
       " 2025-02-17T00:00:00.000  |    73.71659919028339  |   69.47975708502024  |    66.83400809716598  |\n",
       " 2025-02-18T00:00:00.000  |    57.17303370786517  |   53.25168539325843  |    50.95056179775281  |\n",
       " 2025-02-19T00:00:00.000  |    65.54901960784315  |  60.833333333333336  |    57.83529411764705  |\n",
       " 2025-02-20T00:00:00.000  |   56.487378640776704  |   51.59417475728154  |    48.65825242718446  |\n",
       " 2025-02-21T00:00:00.000  |    59.42216981132076  |   55.01650943396227  |   52.551886792452834  |\n",
       " 2025-02-22T00:00:00.000  |    64.32192846034214  |  59.780715396578536  |    57.11819595645412  |\n",
       " 2025-02-23T00:00:00.000  |    61.33264033264034  |  57.224532224532226  |   54.729729729729726  |\n",
       " 2025-02-24T00:00:00.000  |              61.9375  |   57.35887096774193  |   54.798387096774185  |\n",
       " 2025-02-25T00:00:00.000  |    63.34594594594595  |  59.291891891891886  |    56.97027027027026  |\n",
       "                     ...  |                  ...  |                 ...  |                  ...  |\n",
       " 2025-09-21T00:00:00.000  |    59.95154185022026  |  55.812775330396484  |    53.12775330396475  |\n",
       " 2025-09-22T00:00:00.000  |   59.248175182481745  |   55.15474452554743  |    52.50510948905109  |\n",
       " 2025-09-23T00:00:00.000  |   57.626666666666665  |  53.519999999999996  |    50.83111111111111  |\n",
       " 2025-09-24T00:00:00.000  |    66.21647819063006  |  61.368336025848144  |    58.22778675282714  |\n",
       " 2025-09-25T00:00:00.000  |    58.95260663507108  |   54.36966824644551  |    51.72274881516588  |\n",
       " 2025-09-26T00:00:00.000  |   61.293666026871406  |  57.381957773512475  |    55.01343570057581  |\n",
       " 2025-09-27T00:00:00.000  |    64.44977511244376  |   59.60119940029986  |    56.44377811094452  |\n",
       " 2025-09-28T00:00:00.000  |    62.41618497109827  |    58.2504816955684  |     55.7456647398844  |\n",
       " 2025-09-29T00:00:00.000  |    61.23302752293578  |  57.055045871559635  |   54.511926605504584  |\n",
       " 2025-09-30T00:00:00.000  |     56.7816091954023  |   53.13103448275862  |    51.01379310344828  |"
      ]
     },
     "execution_count": 7,
     "metadata": {},
     "output_type": "execute_result"
    }
   ],
   "source": [
    "// Dayl average heart rate\n",
    "final Table table = heartRateQueryExec.execQueryWithAggregation(ChronoUnit.DAYS);\n",
    "table"
   ]
  },
  {
   "cell_type": "code",
   "execution_count": null,
   "id": "ef4634dc",
   "metadata": {
    "vscode": {
     "languageId": "java"
    }
   },
   "outputs": [
    {
     "name": "stdout",
     "output_type": "stream",
     "text": [
      "null\n"
     ]
    },
    {
     "ename": "EvalException",
     "evalue": "Cannot invoke \"tech.tablesaw.api.Table.dateTimeColumn(String)\" because \"REPL.$JShell$30BN.table\" is null",
     "output_type": "error",
     "traceback": [
      "\u001B[1m\u001B[31m---------------------------------------------------------------------------\u001B[0m",
      "\u001B[1m\u001B[31mjava.lang.NullPointerException: Cannot invoke \"tech.tablesaw.api.Table.dateTimeColumn(String)\" because \"REPL.$JShell$30BN.table\" is null\u001B[0m",
      "\u001B[1m\u001B[31m\tat .(#112:1)\u001B[0m"
     ]
    }
   ],
   "source": [
    "\n",
    "final Table table = heartRateQueryExec.execQueryWithAggregation(ChronoUnit.DAYS);\n",
    "\n",
    "System.out.println(table);\n",
    "\n",
    "public static Figure plotTable(DateTimeColumn x, DoubleColumn heartRate, String xLabel, String yLabel,\n",
    "                            int width, int height) {\n",
    "\n",
    "        ScatterTrace trace = ScatterTrace.builder(x, heartRate)\n",
    "                .mode(ScatterTrace.Mode.LINE)\n",
    "                .name(\"Heart Rate\")\n",
    "                .build();\n",
    "\n",
    "        Layout layout = Layout.builder()\n",
    "                .height(height)\n",
    "                .width(width)\n",
    "                .showLegend(true)\n",
    "                .xAxis(Axis.builder().title(xLabel).build())\n",
    "                .yAxis(Axis.builder().title(yLabel).build())\n",
    "                .build();\n",
    "\n",
    "        return new Figure(layout, trace);\n",
    "    }\n",
    "\n",
    "plotTable(table.dateTimeColumn(\"startTime\"), table.doubleColumn(\"Mean [heartRate]\"), \"Time\", \"Heart Rate\", 700, 500)\n",
    "\n"
   ]
  },
  {
   "cell_type": "code",
   "execution_count": null,
   "id": "18409b3f",
   "metadata": {
    "vscode": {
     "languageId": "java"
    }
   },
   "outputs": [],
   "source": []
  }
 ],
 "metadata": {
  "kernelspec": {
   "display_name": "Java",
   "language": "java",
   "name": "java"
  },
  "language_info": {
   "codemirror_mode": "java",
   "file_extension": ".jshell",
   "mimetype": "text/x-java-source",
   "name": "Java",
   "pygments_lexer": "java",
   "version": "17.0.16+8-Ubuntu-0ubuntu122.04.1"
  }
 },
 "nbformat": 4,
 "nbformat_minor": 5
}
